{
 "cells": [
  {
   "cell_type": "code",
   "execution_count": null,
   "id": "5ab2389f",
   "metadata": {
    "ExecuteTime": {
     "end_time": "2021-11-16T08:11:55.006305Z",
     "start_time": "2021-11-16T08:11:52.828544Z"
    }
   },
   "outputs": [],
   "source": [
    "import pandas as pd\n",
    "import jieba\n",
    "import jieba.analyse\n",
    "from sklearn.decomposition import PCA"
   ]
  },
  {
   "cell_type": "code",
   "execution_count": null,
   "id": "c7dea74e",
   "metadata": {
    "ExecuteTime": {
     "end_time": "2021-11-16T08:11:55.022337Z",
     "start_time": "2021-11-16T08:11:55.008288Z"
    }
   },
   "outputs": [],
   "source": [
    "# import zh_core_web_sm\n",
    "# nlp = zh_core_web_sm.load()"
   ]
  },
  {
   "cell_type": "code",
   "execution_count": null,
   "id": "dfd012de",
   "metadata": {
    "ExecuteTime": {
     "end_time": "2021-11-16T08:11:55.306475Z",
     "start_time": "2021-11-16T08:11:55.023290Z"
    }
   },
   "outputs": [],
   "source": [
    "df=pd.read_json('./categ.json',lines=True)\n",
    "df.head()"
   ]
  },
  {
   "cell_type": "code",
   "execution_count": null,
   "id": "c66ff7e9",
   "metadata": {
    "code_folding": []
   },
   "outputs": [],
   "source": [
    "df['words'] = df['書名']+'，' + df['書籍簡介']"
   ]
  },
  {
   "cell_type": "code",
   "execution_count": null,
   "id": "834b10d8",
   "metadata": {},
   "outputs": [],
   "source": [
    "del df['書籍網站'],df['作者'],df['出版社'],df['圖片網址'],df['書籍簡介'],df['類別']"
   ]
  },
  {
   "cell_type": "code",
   "execution_count": null,
   "id": "89484927",
   "metadata": {},
   "outputs": [],
   "source": [
    "stop_words_list=[]\n",
    "with open(file='./stop_words.txt',mode='r', encoding=\"UTF-8\") as file:\n",
    "    for line in file:\n",
    "        line = line.strip()\n",
    "        stop_words_list.append(line)"
   ]
  },
  {
   "cell_type": "code",
   "execution_count": null,
   "id": "57f98074",
   "metadata": {},
   "outputs": [],
   "source": [
    "stop_words='|'.join(stop_words_list)"
   ]
  },
  {
   "cell_type": "code",
   "execution_count": null,
   "id": "89108463",
   "metadata": {},
   "outputs": [],
   "source": [
    "kill1='[^\\w\\s]+'"
   ]
  },
  {
   "cell_type": "code",
   "execution_count": null,
   "id": "2c932e51",
   "metadata": {
    "scrolled": false
   },
   "outputs": [],
   "source": [
    "df['words']=df.words.str.replace(stop_words,'')"
   ]
  },
  {
   "cell_type": "code",
   "execution_count": null,
   "id": "48d92697",
   "metadata": {},
   "outputs": [],
   "source": [
    "kill1='[^\\w\\s]+'\n",
    "df['words']=df.words.str.replace(kill1,'')"
   ]
  },
  {
   "cell_type": "code",
   "execution_count": null,
   "id": "33ec3e72",
   "metadata": {
    "scrolled": false
   },
   "outputs": [],
   "source": [
    "df.head()"
   ]
  },
  {
   "cell_type": "code",
   "execution_count": null,
   "id": "8bd573ba",
   "metadata": {},
   "outputs": [],
   "source": [
    "jieba.set_dictionary('./dict.txt.big')"
   ]
  },
  {
   "cell_type": "code",
   "execution_count": null,
   "id": "8dae01d3",
   "metadata": {},
   "outputs": [],
   "source": [
    "df_1=df.iloc[:500,:]"
   ]
  },
  {
   "cell_type": "code",
   "execution_count": null,
   "id": "2510a7cc",
   "metadata": {},
   "outputs": [],
   "source": [
    "def cut_word(word):\n",
    "    cw=jieba.cut(word)\n",
    "    result=' '.join(cw)\n",
    "    tags=jieba.analyse.extract_tags(result,topK=10,allowPOS=('n','ns','nz'))\n",
    "    return ','.join(tags)\n",
    "df_1['cut_word']=df_1['words'].apply(cut_word)"
   ]
  },
  {
   "cell_type": "code",
   "execution_count": null,
   "id": "fbf8039f",
   "metadata": {},
   "outputs": [],
   "source": [
    "# def cut_word(word):\n",
    "# #     cw=jieba.cut(word)\n",
    "# #     result=' '.join(cw)\n",
    "#     tags=nlp(word)\n",
    "#     a = []\n",
    "#     for token in tags:\n",
    "#         print(token.text, token.pos_, token.dep_)\n",
    "#         a.append(token.text)\n",
    "#     return ','.join(a)\n",
    "# df_1['cut_word']=df_1['words'].apply(cut_word)\n"
   ]
  },
  {
   "cell_type": "code",
   "execution_count": null,
   "id": "1cdba790",
   "metadata": {},
   "outputs": [],
   "source": [
    "df_1.head()"
   ]
  },
  {
   "cell_type": "code",
   "execution_count": null,
   "id": "34cd7cee",
   "metadata": {},
   "outputs": [],
   "source": [
    "dummies=  df_1['cut_word'].str.get_dummies(',')"
   ]
  },
  {
   "cell_type": "code",
   "execution_count": null,
   "id": "fc6e8488",
   "metadata": {},
   "outputs": [],
   "source": [
    "dummies.head()"
   ]
  },
  {
   "cell_type": "code",
   "execution_count": null,
   "id": "b69970ab",
   "metadata": {},
   "outputs": [],
   "source": [
    "X = dummies.values\n",
    "pca = PCA(n_components=2, whiten=True).fit(X)  # whiten=True 表示資料需要正規化\n",
    "X_pca = pca.transform(X)"
   ]
  },
  {
   "cell_type": "code",
   "execution_count": null,
   "id": "b10618d6",
   "metadata": {},
   "outputs": [],
   "source": [
    "%matplotlib inline\n",
    "from sklearn.cluster import KMeans\n",
    "import matplotlib.pyplot as plt\n",
    "from sklearn.preprocessing import scale\n",
    "from numpy import random, float\n",
    "\n",
    "model = KMeans(n_clusters=4)\n",
    "model = model.fit(scale(X_pca))       # 對資料正規化很重要\n",
    "print(model.labels_)\n",
    "\n",
    "plt.figure(figsize=(8, 6))\n",
    "plt.scatter(X_pca[:,0], X_pca[:,1], c=model.labels_.astype(float))\n",
    "plt.show()"
   ]
  },
  {
   "cell_type": "code",
   "execution_count": null,
   "id": "1cdfca5c",
   "metadata": {},
   "outputs": [],
   "source": [
    "import numpy as np\n",
    "pred_classes=model.labels_ \n",
    "\n",
    "for cluster in range(4):\n",
    "    print('cluster: ', cluster)\n",
    "    print(dummies.columns[np.where(pred_classes == cluster)])"
   ]
  },
  {
   "cell_type": "code",
   "execution_count": null,
   "id": "454a996f",
   "metadata": {},
   "outputs": [],
   "source": [
    "# for i in range(1000):\n",
    "#     if model.labels_[i] == 1 :\n",
    "#         print( model.labels_[i])\n",
    "#     else:\n",
    "#         print(\"o\")"
   ]
  },
  {
   "cell_type": "code",
   "execution_count": null,
   "id": "435ce230",
   "metadata": {},
   "outputs": [],
   "source": [
    "import scipy.cluster.hierarchy as sch\n",
    "from sklearn.cluster import AgglomerativeClustering\n",
    "plt.figure(figsize=(20, 18))\n",
    "dendogram = sch.dendrogram(sch.linkage(X, method= 'ward', metric = 'euclidean'))\n",
    "cluster= AgglomerativeClustering(n_clusters  = 5)\n",
    "cluster.fit(X)\n",
    "Y_pred_dendrogram = cluster.fit_predict(X)\n",
    "plt.title('Dendrogram')\n",
    "plt.show()"
   ]
  },
  {
   "cell_type": "code",
   "execution_count": null,
   "id": "5d5249bc",
   "metadata": {},
   "outputs": [],
   "source": [
    "# from sklearn.cluster import AgglomerativeClustering \n",
    "# hc = AgglomerativeClustering(n_clusters = 5, affinity = 'euclidean', linkage ='ward')\n",
    "\n",
    "# y_hc=hc.fit_predict(X)\n",
    "\n",
    "# plt.scatter(X[y_hc==0, 0], X[y_hc==0, 1], s=100, c='red', label ='Cluster 1')\n",
    "# plt.scatter(X[y_hc==1, 0], X[y_hc==1, 1], s=100, c='blue', label ='Cluster 2')\n",
    "# plt.scatter(X[y_hc==2, 0], X[y_hc==2, 1], s=100, c='green', label ='Cluster 3')\n",
    "# plt.scatter(X[y_hc==3, 0], X[y_hc==3, 1], s=100, c='cyan', label ='Cluster 4')\n",
    "# plt.scatter(X[y_hc==4, 0], X[y_hc==4, 1], s=100, c='magenta', label ='Cluster 5')\n",
    "# plt.title('Clusters of Customers (Hierarchical Clustering Model)')\n",
    "# plt.xlabel('Annual Income(k$)')\n",
    "# plt.ylabel('Spending Score(1-100')\n",
    "# plt.show()\n",
    "\n",
    "# hc = AgglomerativeClustering(n_clusters = 5, affinity = 'euclidean', linkage ='ward')\n",
    "# y_hc=hc.fit_predict(Y)"
   ]
  },
  {
   "cell_type": "code",
   "execution_count": null,
   "id": "d894193b",
   "metadata": {},
   "outputs": [],
   "source": [
    "from sklearn import preprocessing\n",
    "sc = preprocessing.MinMaxScaler(feature_range=(0,1))"
   ]
  },
  {
   "cell_type": "code",
   "execution_count": null,
   "id": "e7a490de",
   "metadata": {},
   "outputs": [],
   "source": [
    "y = sc.fit_transform(Y_pred_dendrogram)\n",
    "y"
   ]
  },
  {
   "cell_type": "code",
   "execution_count": null,
   "id": "149ac21b",
   "metadata": {},
   "outputs": [],
   "source": [
    "plt.figure(figsize=(8, 6))\n",
    "plt.scatter(X, y, c=model.labels_.astype(float))\n",
    "plt.show()"
   ]
  },
  {
   "cell_type": "code",
   "execution_count": null,
   "id": "c50ed727",
   "metadata": {},
   "outputs": [],
   "source": [
    "# 引入詞性標註介面\n",
    "import jieba.posseg as psg\n",
    "\n",
    "text = \"一座座\"\n",
    "#詞性標註\n",
    "seg = psg.cut(text)\n",
    "\n",
    "#將詞性標註結果打印出來\n",
    "for ele in seg:\n",
    "    print(ele)"
   ]
  }
 ],
 "metadata": {
  "kernelspec": {
   "display_name": "Python 3 (ipykernel)",
   "language": "python",
   "name": "python3"
  },
  "language_info": {
   "codemirror_mode": {
    "name": "ipython",
    "version": 3
   },
   "file_extension": ".py",
   "mimetype": "text/x-python",
   "name": "python",
   "nbconvert_exporter": "python",
   "pygments_lexer": "ipython3",
   "version": "3.8.10"
  },
  "toc": {
   "base_numbering": 1,
   "nav_menu": {},
   "number_sections": true,
   "sideBar": true,
   "skip_h1_title": false,
   "title_cell": "Table of Contents",
   "title_sidebar": "Contents",
   "toc_cell": false,
   "toc_position": {},
   "toc_section_display": true,
   "toc_window_display": false
  }
 },
 "nbformat": 4,
 "nbformat_minor": 5
}
